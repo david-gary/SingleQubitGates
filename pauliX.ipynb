{
    "cells": [
        {
            "cell_type": "code",
            "execution_count": 75,
            "source": [
                "import qiskit as q\n",
                "\n",
                "import matplotlib as mpl\n",
                "\n",
                "from qiskit import visualization as v"
            ],
            "outputs": [],
            "metadata": {}
        },
        {
            "cell_type": "code",
            "execution_count": 76,
            "source": [
                "qr_X = q.QuantumRegister(1, \"qr\")\n",
                "\n",
                "cr_X = q.ClassicalRegister(1, \"cr\")\n",
                "\n",
                "qc_X = q.QuantumCircuit(qr_X, cr_X)"
            ],
            "outputs": [],
            "metadata": {}
        },
        {
            "cell_type": "code",
            "execution_count": 77,
            "source": [
                "qc_X.x(qr_X[0])\n",
                "\n",
                "qc_X.measure(0, 0)\n",
                "\n",
                "qc_X.draw('mpl')\n"
            ],
            "outputs": [
                {
                    "output_type": "execute_result",
                    "data": {
                        "text/plain": [
                            "<Figure size 202x144 with 1 Axes>"
                        ],
                        "image/png": "[encoded data removed]"
                    },
                    "metadata": {},
                    "execution_count": 77
                },
                {
                    "output_type": "display_data",
                    "data": {
                        "text/plain": [
                            "<Figure size 202x144 with 1 Axes>"
                        ],
                        "image/png": "[encoded data removed]"
                    },
                    "metadata": {}
                }
            ],
            "metadata": {}
        },
        {
            "cell_type": "code",
            "execution_count": 78,
            "source": [
                "print(qc_X.x(qr_X[0]))"
            ],
            "outputs": [
                {
                    "output_type": "stream",
                    "name": "stdout",
                    "text": [
                        "<qiskit.circuit.instructionset.InstructionSet object at 0x7fe7a1adf280>\n"
                    ]
                }
            ],
            "metadata": {}
        },
        {
            "cell_type": "code",
            "execution_count": 79,
            "source": [
                "backend = q.Aer.get_backend('statevector_simulator')\n",
                "\n",
                "result = q.execute(qc_X, backend).result().get_statevector(qc_X, decimals=3)"
            ],
            "outputs": [],
            "metadata": {}
        },
        {
            "cell_type": "code",
            "execution_count": 80,
            "source": [
                "print(f\"Quantum State is {result}\")"
            ],
            "outputs": [
                {
                    "output_type": "stream",
                    "name": "stdout",
                    "text": [
                        "Quantum State is [1.+0.j 0.+0.j]\n"
                    ]
                }
            ],
            "metadata": {}
        },
        {
            "cell_type": "code",
            "execution_count": 81,
            "source": [
                "newBackend = q.Aer.get_backend('qasm_simulator')\n",
                "job = q.execute(qc_X, newBackend, shots = 1000)\n",
                "jobResult = job.result()\n",
                "counts = jobResult.get_counts(qc_X)\n",
                "print(f\"Total Counts: {counts}\")"
            ],
            "outputs": [
                {
                    "output_type": "stream",
                    "name": "stdout",
                    "text": [
                        "Total Counts: {'1': 1000}\n"
                    ]
                }
            ],
            "metadata": {}
        },
        {
            "cell_type": "code",
            "execution_count": null,
            "source": [
                "v.plot_histogram(counts)"
            ],
            "outputs": [],
            "metadata": {}
        },
        {
            "cell_type": "code",
            "execution_count": null,
            "source": [
                "qc_X2 = q.QuantumCircuit(2,2,name='qc')\n",
                "#2 qubits, 2 classical bits\n",
                "qc_X2.x(0)\n",
                "qc_X2.barrier() #cleans up the gates\n",
                "qc_X2.measure(0,0) #measured into first classical bit\n",
                "qc_X2.measure(1,1) #measured into second classical bit\n",
                "qc_X2.draw('mpl')"
            ],
            "outputs": [],
            "metadata": {}
        },
        {
            "cell_type": "code",
            "execution_count": null,
            "source": [
                "qc_X3 = q.QuantumCircuit(2, name='qc')\n",
                "qc_X3.x(0)\n",
                "qc_X3.measure_all()\n",
                "qc_X3.draw('mpl')"
            ],
            "outputs": [],
            "metadata": {}
        }
    ],
    "metadata": {
        "orig_nbformat": 4,
        "language_info": {
            "name": "python",
            "version": "3.8.9",
            "mimetype": "text/x-python",
            "codemirror_mode": {
                "name": "ipython",
                "version": 3
            },
            "pygments_lexer": "ipython3",
            "nbconvert_exporter": "python",
            "file_extension": ".py"
        },
        "kernelspec": {
            "name": "python3",
            "display_name": "Python 3.8.9 64-bit ('3.8')"
        },
        "interpreter": {
            "hash": "082e9a3bcad0a290d0001e938aa60b99250c6c2ef33a923c00b70f9826caf4b7"
        }
    },
    "nbformat": 4,
    "nbformat_minor": 2
}